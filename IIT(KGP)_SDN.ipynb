{
  "nbformat": 4,
  "nbformat_minor": 0,
  "metadata": {
    "colab": {
      "name": "SDN.ipynb",
      "provenance": [],
      "collapsed_sections": [],
      "include_colab_link": true
    },
    "kernelspec": {
      "name": "python3",
      "display_name": "Python 3"
    },
    "accelerator": "GPU"
  },
  "cells": [
    {
      "cell_type": "markdown",
      "metadata": {
        "id": "view-in-github",
        "colab_type": "text"
      },
      "source": [
        "<a href=\"https://colab.research.google.com/github/Tamoghna-Sarkar/Neural-Network-model-for-Danger-predictions-Pytorch/blob/master/IIT(KGP)_SDN.ipynb\" target=\"_parent\"><img src=\"https://colab.research.google.com/assets/colab-badge.svg\" alt=\"Open In Colab\"/></a>"
      ]
    },
    {
      "cell_type": "code",
      "metadata": {
        "id": "d_-5XxDzAajJ",
        "colab_type": "code",
        "colab": {}
      },
      "source": [
        "import numpy as np\n",
        "import pandas as pd\n",
        "import seaborn as sns\n",
        "import matplotlib.pyplot as plt\n",
        "\n",
        "import torch\n",
        "import torch.nn as nn\n",
        "import torch.optim as optim\n",
        "from torch.utils.data import Dataset, DataLoader\n",
        "\n",
        "from sklearn.preprocessing import StandardScaler    \n",
        "from sklearn.model_selection import train_test_split\n",
        "from sklearn.metrics import confusion_matrix, classification_report"
      ],
      "execution_count": 0,
      "outputs": []
    },
    {
      "cell_type": "code",
      "metadata": {
        "id": "8b0xavW1Aixo",
        "colab_type": "code",
        "outputId": "b2476d1f-3571-470d-bea1-5cb96a6080de",
        "colab": {
          "base_uri": "https://localhost:8080/",
          "height": 204
        }
      },
      "source": [
        "df = pd.read_csv(\"/COPY - Copy.csv\")\n",
        "df.head()"
      ],
      "execution_count": 0,
      "outputs": [
        {
          "output_type": "execute_result",
          "data": {
            "text/html": [
              "<div>\n",
              "<style scoped>\n",
              "    .dataframe tbody tr th:only-of-type {\n",
              "        vertical-align: middle;\n",
              "    }\n",
              "\n",
              "    .dataframe tbody tr th {\n",
              "        vertical-align: top;\n",
              "    }\n",
              "\n",
              "    .dataframe thead th {\n",
              "        text-align: right;\n",
              "    }\n",
              "</style>\n",
              "<table border=\"1\" class=\"dataframe\">\n",
              "  <thead>\n",
              "    <tr style=\"text-align: right;\">\n",
              "      <th></th>\n",
              "      <th>Unnamed: 0</th>\n",
              "      <th>sensor_id</th>\n",
              "      <th>location</th>\n",
              "      <th>lat</th>\n",
              "      <th>lon</th>\n",
              "      <th>timestamp</th>\n",
              "      <th>pressure</th>\n",
              "      <th>temperature</th>\n",
              "      <th>humidity</th>\n",
              "      <th>danger_preds</th>\n",
              "    </tr>\n",
              "  </thead>\n",
              "  <tbody>\n",
              "    <tr>\n",
              "      <th>0</th>\n",
              "      <td>1</td>\n",
              "      <td>2266</td>\n",
              "      <td>1140</td>\n",
              "      <td>42.738</td>\n",
              "      <td>23.272</td>\n",
              "      <td>2017-07-01T00:00:07</td>\n",
              "      <td>95270.27</td>\n",
              "      <td>23.46</td>\n",
              "      <td>62.48</td>\n",
              "      <td>1</td>\n",
              "    </tr>\n",
              "    <tr>\n",
              "      <th>1</th>\n",
              "      <td>5</td>\n",
              "      <td>2292</td>\n",
              "      <td>1154</td>\n",
              "      <td>42.663</td>\n",
              "      <td>23.273</td>\n",
              "      <td>2017-07-01T00:00:08</td>\n",
              "      <td>94355.83</td>\n",
              "      <td>23.06</td>\n",
              "      <td>59.46</td>\n",
              "      <td>1</td>\n",
              "    </tr>\n",
              "    <tr>\n",
              "      <th>2</th>\n",
              "      <td>7</td>\n",
              "      <td>3096</td>\n",
              "      <td>1558</td>\n",
              "      <td>42.700</td>\n",
              "      <td>23.360</td>\n",
              "      <td>2017-07-01T00:00:10</td>\n",
              "      <td>95155.81</td>\n",
              "      <td>26.53</td>\n",
              "      <td>44.38</td>\n",
              "      <td>0</td>\n",
              "    </tr>\n",
              "    <tr>\n",
              "      <th>3</th>\n",
              "      <td>9</td>\n",
              "      <td>3428</td>\n",
              "      <td>1727</td>\n",
              "      <td>42.624</td>\n",
              "      <td>23.406</td>\n",
              "      <td>2017-07-01T00:00:12</td>\n",
              "      <td>94679.57</td>\n",
              "      <td>28.34</td>\n",
              "      <td>38.28</td>\n",
              "      <td>0</td>\n",
              "    </tr>\n",
              "    <tr>\n",
              "      <th>4</th>\n",
              "      <td>10</td>\n",
              "      <td>3472</td>\n",
              "      <td>1750</td>\n",
              "      <td>42.669</td>\n",
              "      <td>23.318</td>\n",
              "      <td>2017-07-01T00:00:13</td>\n",
              "      <td>94327.88</td>\n",
              "      <td>26.31</td>\n",
              "      <td>46.37</td>\n",
              "      <td>0</td>\n",
              "    </tr>\n",
              "  </tbody>\n",
              "</table>\n",
              "</div>"
            ],
            "text/plain": [
              "   Unnamed: 0  sensor_id  location  ...  temperature  humidity danger_preds\n",
              "0           1       2266      1140  ...        23.46     62.48            1\n",
              "1           5       2292      1154  ...        23.06     59.46            1\n",
              "2           7       3096      1558  ...        26.53     44.38            0\n",
              "3           9       3428      1727  ...        28.34     38.28            0\n",
              "4          10       3472      1750  ...        26.31     46.37            0\n",
              "\n",
              "[5 rows x 10 columns]"
            ]
          },
          "metadata": {
            "tags": []
          },
          "execution_count": 39
        }
      ]
    },
    {
      "cell_type": "code",
      "metadata": {
        "id": "y73QPjNsVGpF",
        "colab_type": "code",
        "colab": {}
      },
      "source": [
        "# dropping passed columns \n",
        "df.drop([\"lat\", \"lon\", \"location\", \"timestamp\"], axis = 1, inplace = True)"
      ],
      "execution_count": 0,
      "outputs": []
    },
    {
      "cell_type": "code",
      "metadata": {
        "id": "7oJzAW22UIkD",
        "colab_type": "code",
        "outputId": "b578ca2e-3d75-480d-9421-7e7c26eb0f19",
        "colab": {
          "base_uri": "https://localhost:8080/",
          "height": 204
        }
      },
      "source": [
        "df.tail()"
      ],
      "execution_count": 0,
      "outputs": [
        {
          "output_type": "execute_result",
          "data": {
            "text/html": [
              "<div>\n",
              "<style scoped>\n",
              "    .dataframe tbody tr th:only-of-type {\n",
              "        vertical-align: middle;\n",
              "    }\n",
              "\n",
              "    .dataframe tbody tr th {\n",
              "        vertical-align: top;\n",
              "    }\n",
              "\n",
              "    .dataframe thead th {\n",
              "        text-align: right;\n",
              "    }\n",
              "</style>\n",
              "<table border=\"1\" class=\"dataframe\">\n",
              "  <thead>\n",
              "    <tr style=\"text-align: right;\">\n",
              "      <th></th>\n",
              "      <th>Unnamed: 0</th>\n",
              "      <th>sensor_id</th>\n",
              "      <th>pressure</th>\n",
              "      <th>temperature</th>\n",
              "      <th>humidity</th>\n",
              "      <th>danger_preds</th>\n",
              "    </tr>\n",
              "  </thead>\n",
              "  <tbody>\n",
              "    <tr>\n",
              "      <th>109994</th>\n",
              "      <td>303578</td>\n",
              "      <td>3512</td>\n",
              "      <td>95659.08</td>\n",
              "      <td>19.52</td>\n",
              "      <td>66.54</td>\n",
              "      <td>0</td>\n",
              "    </tr>\n",
              "    <tr>\n",
              "      <th>109995</th>\n",
              "      <td>303581</td>\n",
              "      <td>3438</td>\n",
              "      <td>95816.67</td>\n",
              "      <td>16.66</td>\n",
              "      <td>72.32</td>\n",
              "      <td>1</td>\n",
              "    </tr>\n",
              "    <tr>\n",
              "      <th>109996</th>\n",
              "      <td>303582</td>\n",
              "      <td>2292</td>\n",
              "      <td>95009.27</td>\n",
              "      <td>21.85</td>\n",
              "      <td>51.82</td>\n",
              "      <td>0</td>\n",
              "    </tr>\n",
              "    <tr>\n",
              "      <th>109997</th>\n",
              "      <td>303585</td>\n",
              "      <td>2607</td>\n",
              "      <td>95112.61</td>\n",
              "      <td>28.97</td>\n",
              "      <td>35.07</td>\n",
              "      <td>0</td>\n",
              "    </tr>\n",
              "    <tr>\n",
              "      <th>109998</th>\n",
              "      <td>303590</td>\n",
              "      <td>3096</td>\n",
              "      <td>95845.81</td>\n",
              "      <td>20.58</td>\n",
              "      <td>56.75</td>\n",
              "      <td>0</td>\n",
              "    </tr>\n",
              "  </tbody>\n",
              "</table>\n",
              "</div>"
            ],
            "text/plain": [
              "        Unnamed: 0  sensor_id  pressure  temperature  humidity  danger_preds\n",
              "109994      303578       3512  95659.08        19.52     66.54             0\n",
              "109995      303581       3438  95816.67        16.66     72.32             1\n",
              "109996      303582       2292  95009.27        21.85     51.82             0\n",
              "109997      303585       2607  95112.61        28.97     35.07             0\n",
              "109998      303590       3096  95845.81        20.58     56.75             0"
            ]
          },
          "metadata": {
            "tags": []
          },
          "execution_count": 41
        }
      ]
    },
    {
      "cell_type": "code",
      "metadata": {
        "id": "wwI8H7vVUcAT",
        "colab_type": "code",
        "colab": {}
      },
      "source": [
        "\n",
        "df.drop([\"Unnamed: 0\"], axis = 1, inplace = True)"
      ],
      "execution_count": 0,
      "outputs": []
    },
    {
      "cell_type": "code",
      "metadata": {
        "id": "sPqePpT4VgCe",
        "colab_type": "code",
        "outputId": "0f5712a6-e17f-4d62-b421-8f48e0d88257",
        "colab": {
          "base_uri": "https://localhost:8080/",
          "height": 204
        }
      },
      "source": [
        "df.head()\n"
      ],
      "execution_count": 0,
      "outputs": [
        {
          "output_type": "execute_result",
          "data": {
            "text/html": [
              "<div>\n",
              "<style scoped>\n",
              "    .dataframe tbody tr th:only-of-type {\n",
              "        vertical-align: middle;\n",
              "    }\n",
              "\n",
              "    .dataframe tbody tr th {\n",
              "        vertical-align: top;\n",
              "    }\n",
              "\n",
              "    .dataframe thead th {\n",
              "        text-align: right;\n",
              "    }\n",
              "</style>\n",
              "<table border=\"1\" class=\"dataframe\">\n",
              "  <thead>\n",
              "    <tr style=\"text-align: right;\">\n",
              "      <th></th>\n",
              "      <th>sensor_id</th>\n",
              "      <th>pressure</th>\n",
              "      <th>temperature</th>\n",
              "      <th>humidity</th>\n",
              "      <th>danger_preds</th>\n",
              "    </tr>\n",
              "  </thead>\n",
              "  <tbody>\n",
              "    <tr>\n",
              "      <th>0</th>\n",
              "      <td>2266</td>\n",
              "      <td>95270.27</td>\n",
              "      <td>23.46</td>\n",
              "      <td>62.48</td>\n",
              "      <td>1</td>\n",
              "    </tr>\n",
              "    <tr>\n",
              "      <th>1</th>\n",
              "      <td>2292</td>\n",
              "      <td>94355.83</td>\n",
              "      <td>23.06</td>\n",
              "      <td>59.46</td>\n",
              "      <td>1</td>\n",
              "    </tr>\n",
              "    <tr>\n",
              "      <th>2</th>\n",
              "      <td>3096</td>\n",
              "      <td>95155.81</td>\n",
              "      <td>26.53</td>\n",
              "      <td>44.38</td>\n",
              "      <td>0</td>\n",
              "    </tr>\n",
              "    <tr>\n",
              "      <th>3</th>\n",
              "      <td>3428</td>\n",
              "      <td>94679.57</td>\n",
              "      <td>28.34</td>\n",
              "      <td>38.28</td>\n",
              "      <td>0</td>\n",
              "    </tr>\n",
              "    <tr>\n",
              "      <th>4</th>\n",
              "      <td>3472</td>\n",
              "      <td>94327.88</td>\n",
              "      <td>26.31</td>\n",
              "      <td>46.37</td>\n",
              "      <td>0</td>\n",
              "    </tr>\n",
              "  </tbody>\n",
              "</table>\n",
              "</div>"
            ],
            "text/plain": [
              "   sensor_id  pressure  temperature  humidity  danger_preds\n",
              "0       2266  95270.27        23.46     62.48             1\n",
              "1       2292  94355.83        23.06     59.46             1\n",
              "2       3096  95155.81        26.53     44.38             0\n",
              "3       3428  94679.57        28.34     38.28             0\n",
              "4       3472  94327.88        26.31     46.37             0"
            ]
          },
          "metadata": {
            "tags": []
          },
          "execution_count": 43
        }
      ]
    },
    {
      "cell_type": "code",
      "metadata": {
        "id": "4_xZ4bauViUa",
        "colab_type": "code",
        "outputId": "13124452-43d1-43ef-b40d-dc7eceefd9d4",
        "colab": {
          "base_uri": "https://localhost:8080/",
          "height": 297
        }
      },
      "source": [
        "sns.countplot(x = 'danger_preds', data=df)\n",
        "#class imbalance with bar plot"
      ],
      "execution_count": 0,
      "outputs": [
        {
          "output_type": "execute_result",
          "data": {
            "text/plain": [
              "<matplotlib.axes._subplots.AxesSubplot at 0x7ff33b6276a0>"
            ]
          },
          "metadata": {
            "tags": []
          },
          "execution_count": 44
        },
        {
          "output_type": "display_data",
          "data": {
            "image/png": "[encoded data removed]",
            "text/plain": [
              "<Figure size 432x288 with 1 Axes>"
            ]
          },
          "metadata": {
            "tags": [],
            "needs_background": "light"
          }
        }
      ]
    },
    {
      "cell_type": "code",
      "metadata": {
        "id": "eA3KQB7KW9Zq",
        "colab_type": "code",
        "colab": {}
      },
      "source": [
        "X = df.iloc[:, 1:4]\n",
        "y = df.iloc[:, -1]"
      ],
      "execution_count": 0,
      "outputs": []
    },
    {
      "cell_type": "code",
      "metadata": {
        "id": "F7r-qP1GrOWi",
        "colab_type": "code",
        "colab": {}
      },
      "source": [
        "X_train, X_test, y_train, y_test = train_test_split(X, y, test_size=0.33, random_state=69)"
      ],
      "execution_count": 0,
      "outputs": []
    },
    {
      "cell_type": "code",
      "metadata": {
        "id": "XiUCMxmerYlC",
        "colab_type": "code",
        "colab": {}
      },
      "source": [
        "scaler = StandardScaler()\n",
        "X_train = scaler.fit_transform(X_train)\n",
        "X_test = scaler.fit_transform(X_test)"
      ],
      "execution_count": 0,
      "outputs": []
    },
    {
      "cell_type": "code",
      "metadata": {
        "id": "psBByAQ5rgLe",
        "colab_type": "code",
        "colab": {}
      },
      "source": [
        "EPOCHS = 50\n",
        "BATCH_SIZE = 16\n",
        "LEARNING_RATE = 0.001"
      ],
      "execution_count": 0,
      "outputs": []
    },
    {
      "cell_type": "code",
      "metadata": {
        "id": "wMhM47l-rrqK",
        "colab_type": "code",
        "colab": {}
      },
      "source": [
        "## train data\n",
        "class trainData(Dataset):\n",
        "    \n",
        "    def __init__(self, X_data, y_data):\n",
        "        self.X_data = X_data\n",
        "        self.y_data = y_data\n",
        "        \n",
        "    def __getitem__(self, index):\n",
        "        return self.X_data[index], self.y_data[index]\n",
        "        \n",
        "    def __len__ (self):\n",
        "        return len(self.X_data)\n",
        "\n",
        "\n",
        "train_data = trainData(torch.FloatTensor(X_train), \n",
        "                       torch.FloatTensor(y_train))\n",
        "## test data    \n",
        "class testData(Dataset):\n",
        "    \n",
        "    def __init__(self, X_data):\n",
        "        self.X_data = X_data\n",
        "        \n",
        "    def __getitem__(self, index):\n",
        "        return self.X_data[index]\n",
        "        \n",
        "    def __len__ (self):\n",
        "        return len(self.X_data)\n",
        "    \n",
        "\n",
        "test_data = testData(torch.FloatTensor(X_test))"
      ],
      "execution_count": 0,
      "outputs": []
    },
    {
      "cell_type": "code",
      "metadata": {
        "id": "vH_egfc_rxY6",
        "colab_type": "code",
        "colab": {}
      },
      "source": [
        "train_loader = DataLoader(dataset=train_data, batch_size=BATCH_SIZE, shuffle=True)\n",
        "test_loader = DataLoader(dataset=test_data, batch_size=1)"
      ],
      "execution_count": 0,
      "outputs": []
    },
    {
      "cell_type": "code",
      "metadata": {
        "id": "AJkOXTser_WY",
        "colab_type": "code",
        "colab": {}
      },
      "source": [
        "class binaryClassification(nn.Module):\n",
        "    def __init__(self):\n",
        "        super(binaryClassification, self).__init__()\n",
        "        # Number of input features is 3.\n",
        "        self.layer_1 = nn.Linear(3, 16) \n",
        "        self.layer_2 = nn.Linear(16, 16)\n",
        "        self.layer_out = nn.Linear(16, 1) \n",
        "        \n",
        "        self.relu = nn.ReLU()\n",
        "        self.dropout = nn.Dropout(p=0.1)\n",
        "        self.batchnorm1 = nn.BatchNorm1d(16)\n",
        "        self.batchnorm2 = nn.BatchNorm1d(16)\n",
        "        \n",
        "    def forward(self, inputs):\n",
        "        x = self.relu(self.layer_1(inputs))\n",
        "        x = self.batchnorm1(x)\n",
        "        x = self.relu(self.layer_2(x))\n",
        "        x = self.batchnorm2(x)\n",
        "        x = self.dropout(x)\n",
        "        x = self.layer_out(x)\n",
        "        \n",
        "        return x"
      ],
      "execution_count": 0,
      "outputs": []
    },
    {
      "cell_type": "code",
      "metadata": {
        "id": "sfI-pMApsOAR",
        "colab_type": "code",
        "outputId": "342ddb89-d7d7-49f7-a3df-01d12e898311",
        "colab": {
          "base_uri": "https://localhost:8080/",
          "height": 34
        }
      },
      "source": [
        "import torch\n",
        "device = torch.device(\"cuda:0\" if torch.cuda.is_available() else \"cpu\")\n",
        "print(device)"
      ],
      "execution_count": 0,
      "outputs": [
        {
          "output_type": "stream",
          "text": [
            "cuda:0\n"
          ],
          "name": "stdout"
        }
      ]
    },
    {
      "cell_type": "code",
      "metadata": {
        "id": "VdHsbmX5sv6o",
        "colab_type": "code",
        "outputId": "c600a04f-fc71-4849-e795-da29b2a96537",
        "colab": {
          "base_uri": "https://localhost:8080/",
          "height": 170
        }
      },
      "source": [
        "model = binaryClassification()\n",
        "model.to(device)\n",
        "print(model)\n",
        "criterion = nn.BCEWithLogitsLoss()\n",
        "optimizer = optim.Adam(model.parameters(), lr=LEARNING_RATE)"
      ],
      "execution_count": 0,
      "outputs": [
        {
          "output_type": "stream",
          "text": [
            "binaryClassification(\n",
            "  (layer_1): Linear(in_features=3, out_features=16, bias=True)\n",
            "  (layer_2): Linear(in_features=16, out_features=16, bias=True)\n",
            "  (layer_out): Linear(in_features=16, out_features=1, bias=True)\n",
            "  (relu): ReLU()\n",
            "  (dropout): Dropout(p=0.1, inplace=False)\n",
            "  (batchnorm1): BatchNorm1d(16, eps=1e-05, momentum=0.1, affine=True, track_running_stats=True)\n",
            "  (batchnorm2): BatchNorm1d(16, eps=1e-05, momentum=0.1, affine=True, track_running_stats=True)\n",
            ")\n"
          ],
          "name": "stdout"
        }
      ]
    },
    {
      "cell_type": "code",
      "metadata": {
        "id": "XDJ1XpZPvdWs",
        "colab_type": "code",
        "colab": {}
      },
      "source": [
        "def binary_acc(y_pred, y_test):\n",
        "    y_pred_tag = torch.round(torch.sigmoid(y_pred))\n",
        "\n",
        "    correct_results_sum = (y_pred_tag == y_test).sum().float()\n",
        "    acc = correct_results_sum/y_test.shape[0]\n",
        "    acc = torch.round(acc * 100)\n",
        "    \n",
        "    return acc"
      ],
      "execution_count": 0,
      "outputs": []
    },
    {
      "cell_type": "code",
      "metadata": {
        "id": "649qNfyAtX4g",
        "colab_type": "code",
        "outputId": "73eda2e9-7f3a-4540-bc9a-4c2afcd7efba",
        "colab": {
          "base_uri": "https://localhost:8080/",
          "height": 867
        }
      },
      "source": [
        "model.train()\n",
        "for e in range(1, EPOCHS+1):\n",
        "    epoch_loss = 0\n",
        "    epoch_acc = 0\n",
        "    for X_batch, y_batch in train_loader:\n",
        "        X_batch, y_batch = X_batch.to(device), y_batch.to(device)\n",
        "        optimizer.zero_grad()\n",
        "        \n",
        "        y_pred = model(X_batch)\n",
        "        \n",
        "        loss = criterion(y_pred, y_batch.unsqueeze(1))\n",
        "        acc = binary_acc(y_pred, y_batch.unsqueeze(1))\n",
        "        \n",
        "        loss.backward()\n",
        "        optimizer.step()\n",
        "        \n",
        "        epoch_loss += loss.item()\n",
        "        epoch_acc += acc.item()\n",
        "        \n",
        "\n",
        "    print(f'Epoch {e+0:03}: | Loss: {epoch_loss/len(train_loader):.5f} | Acc: {epoch_acc/len(train_loader):.3f}')"
      ],
      "execution_count": 0,
      "outputs": [
        {
          "output_type": "stream",
          "text": [
            "Epoch 001: | Loss: 0.69573 | Acc: 49.959\n",
            "Epoch 002: | Loss: 0.69372 | Acc: 49.960\n",
            "Epoch 003: | Loss: 0.69358 | Acc: 49.939\n",
            "Epoch 004: | Loss: 0.69337 | Acc: 50.108\n",
            "Epoch 005: | Loss: 0.69329 | Acc: 50.219\n",
            "Epoch 006: | Loss: 0.69333 | Acc: 49.834\n",
            "Epoch 007: | Loss: 0.69322 | Acc: 50.273\n",
            "Epoch 008: | Loss: 0.69323 | Acc: 49.977\n",
            "Epoch 009: | Loss: 0.69323 | Acc: 50.086\n",
            "Epoch 010: | Loss: 0.69322 | Acc: 49.936\n",
            "Epoch 011: | Loss: 0.69322 | Acc: 50.120\n",
            "Epoch 012: | Loss: 0.69316 | Acc: 50.239\n",
            "Epoch 013: | Loss: 0.69312 | Acc: 50.382\n",
            "Epoch 014: | Loss: 0.69319 | Acc: 50.140\n",
            "Epoch 015: | Loss: 0.69322 | Acc: 49.995\n",
            "Epoch 016: | Loss: 0.69320 | Acc: 50.142\n",
            "Epoch 017: | Loss: 0.69321 | Acc: 49.918\n",
            "Epoch 018: | Loss: 0.69318 | Acc: 50.340\n",
            "Epoch 019: | Loss: 0.69320 | Acc: 50.201\n",
            "Epoch 020: | Loss: 0.69320 | Acc: 49.763\n",
            "Epoch 021: | Loss: 0.69322 | Acc: 50.240\n",
            "Epoch 022: | Loss: 0.69320 | Acc: 50.157\n",
            "Epoch 023: | Loss: 0.69322 | Acc: 50.047\n",
            "Epoch 024: | Loss: 0.69320 | Acc: 50.304\n",
            "Epoch 025: | Loss: 0.69319 | Acc: 50.293\n",
            "Epoch 026: | Loss: 0.69321 | Acc: 49.998\n",
            "Epoch 027: | Loss: 0.69318 | Acc: 50.282\n",
            "Epoch 028: | Loss: 0.69317 | Acc: 50.274\n",
            "Epoch 029: | Loss: 0.69318 | Acc: 50.275\n",
            "Epoch 030: | Loss: 0.69321 | Acc: 50.025\n",
            "Epoch 031: | Loss: 0.69320 | Acc: 50.237\n",
            "Epoch 032: | Loss: 0.69320 | Acc: 50.249\n",
            "Epoch 033: | Loss: 0.69318 | Acc: 50.183\n",
            "Epoch 034: | Loss: 0.69320 | Acc: 50.170\n",
            "Epoch 035: | Loss: 0.69319 | Acc: 50.269\n",
            "Epoch 036: | Loss: 0.69320 | Acc: 49.862\n",
            "Epoch 037: | Loss: 0.69321 | Acc: 49.914\n",
            "Epoch 038: | Loss: 0.69321 | Acc: 50.077\n",
            "Epoch 039: | Loss: 0.69321 | Acc: 49.818\n",
            "Epoch 040: | Loss: 0.69319 | Acc: 50.131\n",
            "Epoch 041: | Loss: 0.69321 | Acc: 50.114\n",
            "Epoch 042: | Loss: 0.69322 | Acc: 49.929\n",
            "Epoch 043: | Loss: 0.69321 | Acc: 50.088\n",
            "Epoch 044: | Loss: 0.69317 | Acc: 50.362\n",
            "Epoch 045: | Loss: 0.69318 | Acc: 50.257\n",
            "Epoch 046: | Loss: 0.69321 | Acc: 50.011\n",
            "Epoch 047: | Loss: 0.69320 | Acc: 50.114\n",
            "Epoch 048: | Loss: 0.69319 | Acc: 50.095\n",
            "Epoch 049: | Loss: 0.69322 | Acc: 50.135\n",
            "Epoch 050: | Loss: 0.69321 | Acc: 49.928\n"
          ],
          "name": "stdout"
        }
      ]
    },
    {
      "cell_type": "code",
      "metadata": {
        "id": "0TYWDMdWzPDX",
        "colab_type": "code",
        "colab": {}
      },
      "source": [
        "y_pred_list = []\n",
        "model.eval()\n",
        "with torch.no_grad():\n",
        "    for X_batch in test_loader:\n",
        "        X_batch = X_batch.to(device)\n",
        "        y_test_pred = model(X_batch)\n",
        "        y_test_pred = torch.sigmoid(y_test_pred)\n",
        "        y_pred_tag = torch.round(y_test_pred)\n",
        "        y_pred_list.append(y_pred_tag.cpu().numpy())\n",
        "\n",
        "y_pred_list = [a.squeeze().tolist() for a in y_pred_list]"
      ],
      "execution_count": 0,
      "outputs": []
    },
    {
      "cell_type": "code",
      "metadata": {
        "id": "BhNAyWVsAMhr",
        "colab_type": "code",
        "outputId": "2719596d-d0a7-4e3e-fd91-e2294cad273c",
        "colab": {
          "base_uri": "https://localhost:8080/",
          "height": 51
        }
      },
      "source": [
        "confusion_matrix(y_test, y_pred_list)"
      ],
      "execution_count": 0,
      "outputs": [
        {
          "output_type": "execute_result",
          "data": {
            "text/plain": [
              "array([[18101,    83],\n",
              "       [18029,    87]])"
            ]
          },
          "metadata": {
            "tags": []
          },
          "execution_count": 58
        }
      ]
    },
    {
      "cell_type": "code",
      "metadata": {
        "id": "ghshxDPoAYOs",
        "colab_type": "code",
        "outputId": "284d561c-1905-4f2b-e8c7-7b01598118cd",
        "colab": {
          "base_uri": "https://localhost:8080/",
          "height": 170
        }
      },
      "source": [
        "print(classification_report(y_test, y_pred_list))"
      ],
      "execution_count": 0,
      "outputs": [
        {
          "output_type": "stream",
          "text": [
            "              precision    recall  f1-score   support\n",
            "\n",
            "           0       0.50      1.00      0.67     18184\n",
            "           1       0.51      0.00      0.01     18116\n",
            "\n",
            "    accuracy                           0.50     36300\n",
            "   macro avg       0.51      0.50      0.34     36300\n",
            "weighted avg       0.51      0.50      0.34     36300\n",
            "\n"
          ],
          "name": "stdout"
        }
      ]
    },
    {
      "cell_type": "code",
      "metadata": {
        "id": "AVon7enyAcGf",
        "colab_type": "code",
        "colab": {}
      },
      "source": [
        ""
      ],
      "execution_count": 0,
      "outputs": []
    }
  ]
}